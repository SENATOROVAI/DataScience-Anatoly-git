{
 "cells": [
  {
   "cell_type": "markdown",
   "metadata": {},
   "source": [
    "### Команды гита\n",
    "1. Ускорение выполнения рутинных операций, можно использовать модуль Python\n",
    "pip install --user cookiecutter \n",
    "pip install cookiecutter-data-science (тут можно выбрать нужную структуру проекта)\n",
    "git --version\n",
    "git config - изменение .gitconfig в домашней папке\n",
    "git config --list - настройкa текущей конфигурации Git\n",
    "git config --global user.name - задать юзернейм\n",
    "git config --global user.email - задать имейл\n",
    "\n",
    "git init, git clone - создание репозитория\n",
    "git add <имя_файла> - добавление файлов в репозиторий для отслеживания \n",
    "git add . - добавляет в индекс все файлы\n",
    "git commit -am \"<сообщение, описывающее содержание коммита>\" - после добавления файлов они сохраняются этой командой ('a' в '-am' говорит что будут сохранены все добавленные файлы)\n",
    "git status\n",
    "git diff - просмотр различий между рабочей копией кода и последним сохраненным кодом\n",
    "git rm - приказывает Git перестать отслеживать файл\n",
    "git mv - переименование файла и перемещением"
   ]
  },
  {
   "cell_type": "markdown",
   "metadata": {},
   "source": []
  }
 ],
 "metadata": {
  "language_info": {
   "name": "python"
  }
 },
 "nbformat": 4,
 "nbformat_minor": 2
}
