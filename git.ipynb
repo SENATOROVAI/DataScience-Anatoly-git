{
 "cells": [
  {
   "cell_type": "markdown",
   "metadata": {},
   "source": [
    "### Команды гита\n",
    "1. Ускорение выполнения рутинных операций, можно использовать модуль Python\n",
    "pip install --user cookiecutter \n",
    "pip install cookiecutter-data-science (тут можно выбрать нужную структуру проекта)\n",
    "git --version\n",
    "git config - изменение .gitconfig в домашней папке\n",
    "git config --list - настройкa текущей конфигурации Git\n",
    "git config --global user.name - задать юзернейм\n",
    "git config --global user.email - задать имейл\n",
    "\n",
    "git init, git clone - создание репозитория\n",
    "git add <имя_файла> - добавление файлов в репозиторий для отслеживания \n",
    "git commit -am \"<сообщение, описывающее содержание коммита>\" - после добавления файлов они сохраняются этой командой \n",
    "git status"
   ]
  },
  {
   "cell_type": "markdown",
   "metadata": {},
   "source": []
  }
 ],
 "metadata": {
  "language_info": {
   "name": "python"
  }
 },
 "nbformat": 4,
 "nbformat_minor": 2
}
