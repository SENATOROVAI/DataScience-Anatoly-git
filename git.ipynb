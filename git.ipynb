{
 "cells": [
  {
   "cell_type": "markdown",
   "metadata": {},
   "source": [
    "### Команды Git\n",
    "\n",
    "#### Общие команды и настройка\n",
    "##### Ускорение выполнения рутинных операций:\n",
    "```bash\n",
    "pip install --user cookiecutter\n",
    "pip install cookiecutter-data-science  # выбор структуры проекта\n"
   ]
  },
  {
   "cell_type": "markdown",
   "metadata": {},
   "source": [
    "#### Проверка версии Git\n",
    "* git --version\n"
   ]
  },
  {
   "cell_type": "markdown",
   "metadata": {},
   "source": [
    "#### Изменение конфигураций\n",
    "* git config  - изменение `.gitconfig` в домашней папке\n",
    "* git config --list  - просмотр текущей конфигурации Git\n",
    "* git config --global user.name \"<ваше_имя>\"  - задать имя пользователя\n",
    "* git config --global user.email \"<ваш_email>\"  - задать email"
   ]
  },
  {
   "cell_type": "markdown",
   "metadata": {},
   "source": [
    "### Работа с репозиторием"
   ]
  },
  {
   "cell_type": "markdown",
   "metadata": {},
   "source": [
    "#### Создание и клонирование репозитория:\n",
    "\n",
    "* git init  - создание нового репозитория\n",
    "* git clone <url>  - клонирование удаленного репозитория\n"
   ]
  },
  {
   "cell_type": "markdown",
   "metadata": {},
   "source": [
    "#### Добавлений файлов в индекс:\n",
    "\n",
    "* git add <имя_файла>  # добавление конкретного файла\n",
    "* git add .  # добавление всех изменений\n"
   ]
  },
  {
   "cell_type": "markdown",
   "metadata": {},
   "source": [
    "#### Коммит изменений:\n",
    "* git commit -am \"<сообщение>\"  - сохранение всех изменений, добавленных в индекс"
   ]
  }
 ],
 "metadata": {
  "language_info": {
   "name": "python"
  }
 },
 "nbformat": 4,
 "nbformat_minor": 2
}
